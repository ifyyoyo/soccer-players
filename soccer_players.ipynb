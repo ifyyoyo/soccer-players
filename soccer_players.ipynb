{
  "nbformat": 4,
  "nbformat_minor": 0,
  "metadata": {
    "colab": {
      "provenance": []
    },
    "kernelspec": {
      "name": "python3",
      "display_name": "Python 3"
    },
    "language_info": {
      "name": "python"
    }
  },
  "cells": [
    {
      "cell_type": "code",
      "execution_count": 1,
      "metadata": {
        "id": "zwX_u7CojCUg"
      },
      "outputs": [],
      "source": [
        "import pandas as pd\n",
        "import numpy as np \n",
        "from sklearn.svm import SVC\n",
        "from sklearn.metrics import accuracy_score\n",
        "from sklearn.model_selection import train_test_split\n",
        "import matplotlib.pyplot as plt\n",
        "%matplotlib inline\n",
        "from sklearn.inspection import permutation_importance\n",
        "from sklearn.preprocessing import MinMaxScaler\n",
        "from sklearn.preprocessing import StandardScaler"
      ]
    },
    {
      "cell_type": "code",
      "source": [
        "data = pd.read_parquet('soccer.parquet 1')"
      ],
      "metadata": {
        "id": "piPGb2mLkbXS"
      },
      "execution_count": 2,
      "outputs": []
    },
    {
      "cell_type": "code",
      "source": [
        "data.head()"
      ],
      "metadata": {
        "colab": {
          "base_uri": "https://localhost:8080/",
          "height": 504
        },
        "id": "Z0SRx4O-ks2A",
        "outputId": "76c6c1ca-a296-410c-bc96-4e0165425b2b"
      },
      "execution_count": 3,
      "outputs": [
        {
          "output_type": "execute_result",
          "data": {
            "text/plain": [
              "    player_fifa_api_id  player_api_id                 date  overall_rating  \\\n",
              "id                                                                           \n",
              "1               218353         505942  2016-02-18 00:00:00            67.0   \n",
              "2               218353         505942  2015-11-19 00:00:00            67.0   \n",
              "3               218353         505942  2015-09-21 00:00:00            62.0   \n",
              "4               218353         505942  2015-03-20 00:00:00            61.0   \n",
              "5               218353         505942  2007-02-22 00:00:00            61.0   \n",
              "\n",
              "    potential preferred_foot attacking_work_rate defensive_work_rate  \\\n",
              "id                                                                     \n",
              "1        71.0          right              medium              medium   \n",
              "2        71.0          right              medium              medium   \n",
              "3        66.0          right              medium              medium   \n",
              "4        65.0          right              medium              medium   \n",
              "5        65.0          right              medium              medium   \n",
              "\n",
              "    crossing  finishing  ...  vision  penalties  marking  standing_tackle  \\\n",
              "id                       ...                                                \n",
              "1       49.0       44.0  ...    54.0       48.0     65.0             69.0   \n",
              "2       49.0       44.0  ...    54.0       48.0     65.0             69.0   \n",
              "3       49.0       44.0  ...    54.0       48.0     65.0             66.0   \n",
              "4       48.0       43.0  ...    53.0       47.0     62.0             63.0   \n",
              "5       48.0       43.0  ...    53.0       47.0     62.0             63.0   \n",
              "\n",
              "    sliding_tackle  gk_diving  gk_handling  gk_kicking  gk_positioning  \\\n",
              "id                                                                       \n",
              "1             69.0        6.0         11.0        10.0             8.0   \n",
              "2             69.0        6.0         11.0        10.0             8.0   \n",
              "3             69.0        6.0         11.0        10.0             8.0   \n",
              "4             66.0        5.0         10.0         9.0             7.0   \n",
              "5             66.0        5.0         10.0         9.0             7.0   \n",
              "\n",
              "    gk_reflexes  \n",
              "id               \n",
              "1           8.0  \n",
              "2           8.0  \n",
              "3           8.0  \n",
              "4           7.0  \n",
              "5           7.0  \n",
              "\n",
              "[5 rows x 41 columns]"
            ],
            "text/html": [
              "\n",
              "  <div id=\"df-65ae36fb-aa1c-4b57-ba8e-f7245fb90dbe\">\n",
              "    <div class=\"colab-df-container\">\n",
              "      <div>\n",
              "<style scoped>\n",
              "    .dataframe tbody tr th:only-of-type {\n",
              "        vertical-align: middle;\n",
              "    }\n",
              "\n",
              "    .dataframe tbody tr th {\n",
              "        vertical-align: top;\n",
              "    }\n",
              "\n",
              "    .dataframe thead th {\n",
              "        text-align: right;\n",
              "    }\n",
              "</style>\n",
              "<table border=\"1\" class=\"dataframe\">\n",
              "  <thead>\n",
              "    <tr style=\"text-align: right;\">\n",
              "      <th></th>\n",
              "      <th>player_fifa_api_id</th>\n",
              "      <th>player_api_id</th>\n",
              "      <th>date</th>\n",
              "      <th>overall_rating</th>\n",
              "      <th>potential</th>\n",
              "      <th>preferred_foot</th>\n",
              "      <th>attacking_work_rate</th>\n",
              "      <th>defensive_work_rate</th>\n",
              "      <th>crossing</th>\n",
              "      <th>finishing</th>\n",
              "      <th>...</th>\n",
              "      <th>vision</th>\n",
              "      <th>penalties</th>\n",
              "      <th>marking</th>\n",
              "      <th>standing_tackle</th>\n",
              "      <th>sliding_tackle</th>\n",
              "      <th>gk_diving</th>\n",
              "      <th>gk_handling</th>\n",
              "      <th>gk_kicking</th>\n",
              "      <th>gk_positioning</th>\n",
              "      <th>gk_reflexes</th>\n",
              "    </tr>\n",
              "    <tr>\n",
              "      <th>id</th>\n",
              "      <th></th>\n",
              "      <th></th>\n",
              "      <th></th>\n",
              "      <th></th>\n",
              "      <th></th>\n",
              "      <th></th>\n",
              "      <th></th>\n",
              "      <th></th>\n",
              "      <th></th>\n",
              "      <th></th>\n",
              "      <th></th>\n",
              "      <th></th>\n",
              "      <th></th>\n",
              "      <th></th>\n",
              "      <th></th>\n",
              "      <th></th>\n",
              "      <th></th>\n",
              "      <th></th>\n",
              "      <th></th>\n",
              "      <th></th>\n",
              "      <th></th>\n",
              "    </tr>\n",
              "  </thead>\n",
              "  <tbody>\n",
              "    <tr>\n",
              "      <th>1</th>\n",
              "      <td>218353</td>\n",
              "      <td>505942</td>\n",
              "      <td>2016-02-18 00:00:00</td>\n",
              "      <td>67.0</td>\n",
              "      <td>71.0</td>\n",
              "      <td>right</td>\n",
              "      <td>medium</td>\n",
              "      <td>medium</td>\n",
              "      <td>49.0</td>\n",
              "      <td>44.0</td>\n",
              "      <td>...</td>\n",
              "      <td>54.0</td>\n",
              "      <td>48.0</td>\n",
              "      <td>65.0</td>\n",
              "      <td>69.0</td>\n",
              "      <td>69.0</td>\n",
              "      <td>6.0</td>\n",
              "      <td>11.0</td>\n",
              "      <td>10.0</td>\n",
              "      <td>8.0</td>\n",
              "      <td>8.0</td>\n",
              "    </tr>\n",
              "    <tr>\n",
              "      <th>2</th>\n",
              "      <td>218353</td>\n",
              "      <td>505942</td>\n",
              "      <td>2015-11-19 00:00:00</td>\n",
              "      <td>67.0</td>\n",
              "      <td>71.0</td>\n",
              "      <td>right</td>\n",
              "      <td>medium</td>\n",
              "      <td>medium</td>\n",
              "      <td>49.0</td>\n",
              "      <td>44.0</td>\n",
              "      <td>...</td>\n",
              "      <td>54.0</td>\n",
              "      <td>48.0</td>\n",
              "      <td>65.0</td>\n",
              "      <td>69.0</td>\n",
              "      <td>69.0</td>\n",
              "      <td>6.0</td>\n",
              "      <td>11.0</td>\n",
              "      <td>10.0</td>\n",
              "      <td>8.0</td>\n",
              "      <td>8.0</td>\n",
              "    </tr>\n",
              "    <tr>\n",
              "      <th>3</th>\n",
              "      <td>218353</td>\n",
              "      <td>505942</td>\n",
              "      <td>2015-09-21 00:00:00</td>\n",
              "      <td>62.0</td>\n",
              "      <td>66.0</td>\n",
              "      <td>right</td>\n",
              "      <td>medium</td>\n",
              "      <td>medium</td>\n",
              "      <td>49.0</td>\n",
              "      <td>44.0</td>\n",
              "      <td>...</td>\n",
              "      <td>54.0</td>\n",
              "      <td>48.0</td>\n",
              "      <td>65.0</td>\n",
              "      <td>66.0</td>\n",
              "      <td>69.0</td>\n",
              "      <td>6.0</td>\n",
              "      <td>11.0</td>\n",
              "      <td>10.0</td>\n",
              "      <td>8.0</td>\n",
              "      <td>8.0</td>\n",
              "    </tr>\n",
              "    <tr>\n",
              "      <th>4</th>\n",
              "      <td>218353</td>\n",
              "      <td>505942</td>\n",
              "      <td>2015-03-20 00:00:00</td>\n",
              "      <td>61.0</td>\n",
              "      <td>65.0</td>\n",
              "      <td>right</td>\n",
              "      <td>medium</td>\n",
              "      <td>medium</td>\n",
              "      <td>48.0</td>\n",
              "      <td>43.0</td>\n",
              "      <td>...</td>\n",
              "      <td>53.0</td>\n",
              "      <td>47.0</td>\n",
              "      <td>62.0</td>\n",
              "      <td>63.0</td>\n",
              "      <td>66.0</td>\n",
              "      <td>5.0</td>\n",
              "      <td>10.0</td>\n",
              "      <td>9.0</td>\n",
              "      <td>7.0</td>\n",
              "      <td>7.0</td>\n",
              "    </tr>\n",
              "    <tr>\n",
              "      <th>5</th>\n",
              "      <td>218353</td>\n",
              "      <td>505942</td>\n",
              "      <td>2007-02-22 00:00:00</td>\n",
              "      <td>61.0</td>\n",
              "      <td>65.0</td>\n",
              "      <td>right</td>\n",
              "      <td>medium</td>\n",
              "      <td>medium</td>\n",
              "      <td>48.0</td>\n",
              "      <td>43.0</td>\n",
              "      <td>...</td>\n",
              "      <td>53.0</td>\n",
              "      <td>47.0</td>\n",
              "      <td>62.0</td>\n",
              "      <td>63.0</td>\n",
              "      <td>66.0</td>\n",
              "      <td>5.0</td>\n",
              "      <td>10.0</td>\n",
              "      <td>9.0</td>\n",
              "      <td>7.0</td>\n",
              "      <td>7.0</td>\n",
              "    </tr>\n",
              "  </tbody>\n",
              "</table>\n",
              "<p>5 rows × 41 columns</p>\n",
              "</div>\n",
              "      <button class=\"colab-df-convert\" onclick=\"convertToInteractive('df-65ae36fb-aa1c-4b57-ba8e-f7245fb90dbe')\"\n",
              "              title=\"Convert this dataframe to an interactive table.\"\n",
              "              style=\"display:none;\">\n",
              "        \n",
              "  <svg xmlns=\"http://www.w3.org/2000/svg\" height=\"24px\"viewBox=\"0 0 24 24\"\n",
              "       width=\"24px\">\n",
              "    <path d=\"M0 0h24v24H0V0z\" fill=\"none\"/>\n",
              "    <path d=\"M18.56 5.44l.94 2.06.94-2.06 2.06-.94-2.06-.94-.94-2.06-.94 2.06-2.06.94zm-11 1L8.5 8.5l.94-2.06 2.06-.94-2.06-.94L8.5 2.5l-.94 2.06-2.06.94zm10 10l.94 2.06.94-2.06 2.06-.94-2.06-.94-.94-2.06-.94 2.06-2.06.94z\"/><path d=\"M17.41 7.96l-1.37-1.37c-.4-.4-.92-.59-1.43-.59-.52 0-1.04.2-1.43.59L10.3 9.45l-7.72 7.72c-.78.78-.78 2.05 0 2.83L4 21.41c.39.39.9.59 1.41.59.51 0 1.02-.2 1.41-.59l7.78-7.78 2.81-2.81c.8-.78.8-2.07 0-2.86zM5.41 20L4 18.59l7.72-7.72 1.47 1.35L5.41 20z\"/>\n",
              "  </svg>\n",
              "      </button>\n",
              "      \n",
              "  <style>\n",
              "    .colab-df-container {\n",
              "      display:flex;\n",
              "      flex-wrap:wrap;\n",
              "      gap: 12px;\n",
              "    }\n",
              "\n",
              "    .colab-df-convert {\n",
              "      background-color: #E8F0FE;\n",
              "      border: none;\n",
              "      border-radius: 50%;\n",
              "      cursor: pointer;\n",
              "      display: none;\n",
              "      fill: #1967D2;\n",
              "      height: 32px;\n",
              "      padding: 0 0 0 0;\n",
              "      width: 32px;\n",
              "    }\n",
              "\n",
              "    .colab-df-convert:hover {\n",
              "      background-color: #E2EBFA;\n",
              "      box-shadow: 0px 1px 2px rgba(60, 64, 67, 0.3), 0px 1px 3px 1px rgba(60, 64, 67, 0.15);\n",
              "      fill: #174EA6;\n",
              "    }\n",
              "\n",
              "    [theme=dark] .colab-df-convert {\n",
              "      background-color: #3B4455;\n",
              "      fill: #D2E3FC;\n",
              "    }\n",
              "\n",
              "    [theme=dark] .colab-df-convert:hover {\n",
              "      background-color: #434B5C;\n",
              "      box-shadow: 0px 1px 3px 1px rgba(0, 0, 0, 0.15);\n",
              "      filter: drop-shadow(0px 1px 2px rgba(0, 0, 0, 0.3));\n",
              "      fill: #FFFFFF;\n",
              "    }\n",
              "  </style>\n",
              "\n",
              "      <script>\n",
              "        const buttonEl =\n",
              "          document.querySelector('#df-65ae36fb-aa1c-4b57-ba8e-f7245fb90dbe button.colab-df-convert');\n",
              "        buttonEl.style.display =\n",
              "          google.colab.kernel.accessAllowed ? 'block' : 'none';\n",
              "\n",
              "        async function convertToInteractive(key) {\n",
              "          const element = document.querySelector('#df-65ae36fb-aa1c-4b57-ba8e-f7245fb90dbe');\n",
              "          const dataTable =\n",
              "            await google.colab.kernel.invokeFunction('convertToInteractive',\n",
              "                                                     [key], {});\n",
              "          if (!dataTable) return;\n",
              "\n",
              "          const docLinkHtml = 'Like what you see? Visit the ' +\n",
              "            '<a target=\"_blank\" href=https://colab.research.google.com/notebooks/data_table.ipynb>data table notebook</a>'\n",
              "            + ' to learn more about interactive tables.';\n",
              "          element.innerHTML = '';\n",
              "          dataTable['output_type'] = 'display_data';\n",
              "          await google.colab.output.renderOutput(dataTable, element);\n",
              "          const docLink = document.createElement('div');\n",
              "          docLink.innerHTML = docLinkHtml;\n",
              "          element.appendChild(docLink);\n",
              "        }\n",
              "      </script>\n",
              "    </div>\n",
              "  </div>\n",
              "  "
            ]
          },
          "metadata": {},
          "execution_count": 3
        }
      ]
    },
    {
      "cell_type": "code",
      "source": [
        "data.info()"
      ],
      "metadata": {
        "colab": {
          "base_uri": "https://localhost:8080/"
        },
        "id": "GG9G7dYAlQVo",
        "outputId": "ea2be1c7-21e1-4feb-bad7-5e2f01ea12ef"
      },
      "execution_count": 4,
      "outputs": [
        {
          "output_type": "stream",
          "name": "stdout",
          "text": [
            "<class 'pandas.core.frame.DataFrame'>\n",
            "Int64Index: 183978 entries, 1 to 183978\n",
            "Data columns (total 41 columns):\n",
            " #   Column               Non-Null Count   Dtype  \n",
            "---  ------               --------------   -----  \n",
            " 0   player_fifa_api_id   183978 non-null  int64  \n",
            " 1   player_api_id        183978 non-null  int64  \n",
            " 2   date                 183978 non-null  object \n",
            " 3   overall_rating       183142 non-null  float64\n",
            " 4   potential            183142 non-null  float64\n",
            " 5   preferred_foot       183142 non-null  object \n",
            " 6   attacking_work_rate  180748 non-null  object \n",
            " 7   defensive_work_rate  183142 non-null  object \n",
            " 8   crossing             183142 non-null  float64\n",
            " 9   finishing            183142 non-null  float64\n",
            " 10  heading_accuracy     183142 non-null  float64\n",
            " 11  short_passing        183142 non-null  float64\n",
            " 12  volleys              181265 non-null  float64\n",
            " 13  dribbling            183142 non-null  float64\n",
            " 14  curve                181265 non-null  float64\n",
            " 15  free_kick_accuracy   183142 non-null  float64\n",
            " 16  long_passing         183142 non-null  float64\n",
            " 17  ball_control         183142 non-null  float64\n",
            " 18  acceleration         183142 non-null  float64\n",
            " 19  sprint_speed         183142 non-null  float64\n",
            " 20  agility              181265 non-null  float64\n",
            " 21  reactions            183142 non-null  float64\n",
            " 22  balance              181265 non-null  float64\n",
            " 23  shot_power           183142 non-null  float64\n",
            " 24  jumping              181265 non-null  float64\n",
            " 25  stamina              183142 non-null  float64\n",
            " 26  strength             183142 non-null  float64\n",
            " 27  long_shots           183142 non-null  float64\n",
            " 28  aggression           183142 non-null  float64\n",
            " 29  interceptions        183142 non-null  float64\n",
            " 30  positioning          183142 non-null  float64\n",
            " 31  vision               181265 non-null  float64\n",
            " 32  penalties            183142 non-null  float64\n",
            " 33  marking              183142 non-null  float64\n",
            " 34  standing_tackle      183142 non-null  float64\n",
            " 35  sliding_tackle       181265 non-null  float64\n",
            " 36  gk_diving            183142 non-null  float64\n",
            " 37  gk_handling          183142 non-null  float64\n",
            " 38  gk_kicking           183142 non-null  float64\n",
            " 39  gk_positioning       183142 non-null  float64\n",
            " 40  gk_reflexes          183142 non-null  float64\n",
            "dtypes: float64(35), int64(2), object(4)\n",
            "memory usage: 59.0+ MB\n"
          ]
        }
      ]
    },
    {
      "cell_type": "code",
      "source": [
        "data.isnull().any()"
      ],
      "metadata": {
        "colab": {
          "base_uri": "https://localhost:8080/"
        },
        "id": "yURupiwnlXA2",
        "outputId": "c283e383-3f47-47ae-fd42-e1347149cd7a"
      },
      "execution_count": 5,
      "outputs": [
        {
          "output_type": "execute_result",
          "data": {
            "text/plain": [
              "player_fifa_api_id     False\n",
              "player_api_id          False\n",
              "date                   False\n",
              "overall_rating          True\n",
              "potential               True\n",
              "preferred_foot          True\n",
              "attacking_work_rate     True\n",
              "defensive_work_rate     True\n",
              "crossing                True\n",
              "finishing               True\n",
              "heading_accuracy        True\n",
              "short_passing           True\n",
              "volleys                 True\n",
              "dribbling               True\n",
              "curve                   True\n",
              "free_kick_accuracy      True\n",
              "long_passing            True\n",
              "ball_control            True\n",
              "acceleration            True\n",
              "sprint_speed            True\n",
              "agility                 True\n",
              "reactions               True\n",
              "balance                 True\n",
              "shot_power              True\n",
              "jumping                 True\n",
              "stamina                 True\n",
              "strength                True\n",
              "long_shots              True\n",
              "aggression              True\n",
              "interceptions           True\n",
              "positioning             True\n",
              "vision                  True\n",
              "penalties               True\n",
              "marking                 True\n",
              "standing_tackle         True\n",
              "sliding_tackle          True\n",
              "gk_diving               True\n",
              "gk_handling             True\n",
              "gk_kicking              True\n",
              "gk_positioning          True\n",
              "gk_reflexes             True\n",
              "dtype: bool"
            ]
          },
          "metadata": {},
          "execution_count": 5
        }
      ]
    },
    {
      "cell_type": "code",
      "source": [
        "data.isnull().sum()"
      ],
      "metadata": {
        "colab": {
          "base_uri": "https://localhost:8080/"
        },
        "id": "UKUyYB46lj56",
        "outputId": "97ee4edb-ca03-49d6-ff2a-5457a6db0fae"
      },
      "execution_count": 6,
      "outputs": [
        {
          "output_type": "execute_result",
          "data": {
            "text/plain": [
              "player_fifa_api_id        0\n",
              "player_api_id             0\n",
              "date                      0\n",
              "overall_rating          836\n",
              "potential               836\n",
              "preferred_foot          836\n",
              "attacking_work_rate    3230\n",
              "defensive_work_rate     836\n",
              "crossing                836\n",
              "finishing               836\n",
              "heading_accuracy        836\n",
              "short_passing           836\n",
              "volleys                2713\n",
              "dribbling               836\n",
              "curve                  2713\n",
              "free_kick_accuracy      836\n",
              "long_passing            836\n",
              "ball_control            836\n",
              "acceleration            836\n",
              "sprint_speed            836\n",
              "agility                2713\n",
              "reactions               836\n",
              "balance                2713\n",
              "shot_power              836\n",
              "jumping                2713\n",
              "stamina                 836\n",
              "strength                836\n",
              "long_shots              836\n",
              "aggression              836\n",
              "interceptions           836\n",
              "positioning             836\n",
              "vision                 2713\n",
              "penalties               836\n",
              "marking                 836\n",
              "standing_tackle         836\n",
              "sliding_tackle         2713\n",
              "gk_diving               836\n",
              "gk_handling             836\n",
              "gk_kicking              836\n",
              "gk_positioning          836\n",
              "gk_reflexes             836\n",
              "dtype: int64"
            ]
          },
          "metadata": {},
          "execution_count": 6
        }
      ]
    },
    {
      "cell_type": "code",
      "source": [
        "data = data.dropna()"
      ],
      "metadata": {
        "id": "6j1OTF5CltUC"
      },
      "execution_count": 7,
      "outputs": []
    },
    {
      "cell_type": "code",
      "source": [
        "data = data.iloc[:10000]\n",
        "len(data)"
      ],
      "metadata": {
        "colab": {
          "base_uri": "https://localhost:8080/"
        },
        "id": "YDHcBngbl4ks",
        "outputId": "619c34e2-fa3a-4835-8bd0-4562b2500fd4"
      },
      "execution_count": 8,
      "outputs": [
        {
          "output_type": "execute_result",
          "data": {
            "text/plain": [
              "10000"
            ]
          },
          "metadata": {},
          "execution_count": 8
        }
      ]
    },
    {
      "cell_type": "code",
      "source": [
        "data.info()"
      ],
      "metadata": {
        "colab": {
          "base_uri": "https://localhost:8080/"
        },
        "id": "G8YfQ-t7mB0E",
        "outputId": "237f7c79-957b-4a67-a65a-b8036ec8e356"
      },
      "execution_count": 9,
      "outputs": [
        {
          "output_type": "stream",
          "name": "stdout",
          "text": [
            "<class 'pandas.core.frame.DataFrame'>\n",
            "Int64Index: 10000 entries, 1 to 10179\n",
            "Data columns (total 41 columns):\n",
            " #   Column               Non-Null Count  Dtype  \n",
            "---  ------               --------------  -----  \n",
            " 0   player_fifa_api_id   10000 non-null  int64  \n",
            " 1   player_api_id        10000 non-null  int64  \n",
            " 2   date                 10000 non-null  object \n",
            " 3   overall_rating       10000 non-null  float64\n",
            " 4   potential            10000 non-null  float64\n",
            " 5   preferred_foot       10000 non-null  object \n",
            " 6   attacking_work_rate  10000 non-null  object \n",
            " 7   defensive_work_rate  10000 non-null  object \n",
            " 8   crossing             10000 non-null  float64\n",
            " 9   finishing            10000 non-null  float64\n",
            " 10  heading_accuracy     10000 non-null  float64\n",
            " 11  short_passing        10000 non-null  float64\n",
            " 12  volleys              10000 non-null  float64\n",
            " 13  dribbling            10000 non-null  float64\n",
            " 14  curve                10000 non-null  float64\n",
            " 15  free_kick_accuracy   10000 non-null  float64\n",
            " 16  long_passing         10000 non-null  float64\n",
            " 17  ball_control         10000 non-null  float64\n",
            " 18  acceleration         10000 non-null  float64\n",
            " 19  sprint_speed         10000 non-null  float64\n",
            " 20  agility              10000 non-null  float64\n",
            " 21  reactions            10000 non-null  float64\n",
            " 22  balance              10000 non-null  float64\n",
            " 23  shot_power           10000 non-null  float64\n",
            " 24  jumping              10000 non-null  float64\n",
            " 25  stamina              10000 non-null  float64\n",
            " 26  strength             10000 non-null  float64\n",
            " 27  long_shots           10000 non-null  float64\n",
            " 28  aggression           10000 non-null  float64\n",
            " 29  interceptions        10000 non-null  float64\n",
            " 30  positioning          10000 non-null  float64\n",
            " 31  vision               10000 non-null  float64\n",
            " 32  penalties            10000 non-null  float64\n",
            " 33  marking              10000 non-null  float64\n",
            " 34  standing_tackle      10000 non-null  float64\n",
            " 35  sliding_tackle       10000 non-null  float64\n",
            " 36  gk_diving            10000 non-null  float64\n",
            " 37  gk_handling          10000 non-null  float64\n",
            " 38  gk_kicking           10000 non-null  float64\n",
            " 39  gk_positioning       10000 non-null  float64\n",
            " 40  gk_reflexes          10000 non-null  float64\n",
            "dtypes: float64(35), int64(2), object(4)\n",
            "memory usage: 3.2+ MB\n"
          ]
        }
      ]
    },
    {
      "cell_type": "code",
      "source": [
        "X = data.drop(['date','preferred_foot','attacking_work_rate','defensive_work_rate'], axis = 1)\n",
        "y = data['preferred_foot']"
      ],
      "metadata": {
        "id": "9qG36mBsmI-y"
      },
      "execution_count": 10,
      "outputs": []
    },
    {
      "cell_type": "code",
      "source": [
        "X_train, X_test, y_train, y_test = train_test_split(X, y, test_size=0.25, random_state=42)"
      ],
      "metadata": {
        "id": "1Pi9nyMRmRvj"
      },
      "execution_count": 11,
      "outputs": []
    },
    {
      "cell_type": "code",
      "source": [
        "norm = MinMaxScaler().fit(X_train)\n",
        "\n",
        "X_train_norm = norm.transform(X_train)\n",
        "X_test_norm = norm.transform(X_test)"
      ],
      "metadata": {
        "id": "dYzeaKDlmYor"
      },
      "execution_count": 12,
      "outputs": []
    },
    {
      "cell_type": "code",
      "source": [
        "stand = StandardScaler().fit(X_train)\n",
        "\n",
        "X_train_stand = stand.transform(X_train)\n",
        "X_test_stand = stand.transform(X_test)"
      ],
      "metadata": {
        "id": "zYht4R8dmeux"
      },
      "execution_count": 13,
      "outputs": []
    },
    {
      "cell_type": "code",
      "source": [
        "score = []\n",
        "\n",
        "X_trains = [X_train, X_train_norm, X_train_stand]\n",
        "X_tests = [X_test, X_test_norm, X_test_stand]\n"
      ],
      "metadata": {
        "id": "Yj0xqjdOmoyZ"
      },
      "execution_count": 14,
      "outputs": []
    },
    {
      "cell_type": "code",
      "source": [
        "for X_train_set, X_test_set in zip(X_trains, X_tests):\n",
        "    svc = SVC()\n",
        "    \n",
        "    svc.fit(X_train_set, y_train)\n",
        "    y_pred = svc.predict(X_test_set)\n",
        "    \n",
        "    score.append(accuracy_score(y_test, y_pred))"
      ],
      "metadata": {
        "id": "7uZxz-u8mvl1"
      },
      "execution_count": 15,
      "outputs": []
    },
    {
      "cell_type": "code",
      "source": [
        "pd.DataFrame({'Accuracy':score}, index=['Original', 'Normalized', 'Standardized'])"
      ],
      "metadata": {
        "colab": {
          "base_uri": "https://localhost:8080/",
          "height": 143
        },
        "id": "Sl8dotOmm2d6",
        "outputId": "73baa4ae-2c06-453f-9a4a-017d2e53ff28"
      },
      "execution_count": 16,
      "outputs": [
        {
          "output_type": "execute_result",
          "data": {
            "text/plain": [
              "              Accuracy\n",
              "Original        0.7792\n",
              "Normalized      0.8452\n",
              "Standardized    0.8900"
            ],
            "text/html": [
              "\n",
              "  <div id=\"df-f064f4d9-7118-444f-832e-613d1ea4573b\">\n",
              "    <div class=\"colab-df-container\">\n",
              "      <div>\n",
              "<style scoped>\n",
              "    .dataframe tbody tr th:only-of-type {\n",
              "        vertical-align: middle;\n",
              "    }\n",
              "\n",
              "    .dataframe tbody tr th {\n",
              "        vertical-align: top;\n",
              "    }\n",
              "\n",
              "    .dataframe thead th {\n",
              "        text-align: right;\n",
              "    }\n",
              "</style>\n",
              "<table border=\"1\" class=\"dataframe\">\n",
              "  <thead>\n",
              "    <tr style=\"text-align: right;\">\n",
              "      <th></th>\n",
              "      <th>Accuracy</th>\n",
              "    </tr>\n",
              "  </thead>\n",
              "  <tbody>\n",
              "    <tr>\n",
              "      <th>Original</th>\n",
              "      <td>0.7792</td>\n",
              "    </tr>\n",
              "    <tr>\n",
              "      <th>Normalized</th>\n",
              "      <td>0.8452</td>\n",
              "    </tr>\n",
              "    <tr>\n",
              "      <th>Standardized</th>\n",
              "      <td>0.8900</td>\n",
              "    </tr>\n",
              "  </tbody>\n",
              "</table>\n",
              "</div>\n",
              "      <button class=\"colab-df-convert\" onclick=\"convertToInteractive('df-f064f4d9-7118-444f-832e-613d1ea4573b')\"\n",
              "              title=\"Convert this dataframe to an interactive table.\"\n",
              "              style=\"display:none;\">\n",
              "        \n",
              "  <svg xmlns=\"http://www.w3.org/2000/svg\" height=\"24px\"viewBox=\"0 0 24 24\"\n",
              "       width=\"24px\">\n",
              "    <path d=\"M0 0h24v24H0V0z\" fill=\"none\"/>\n",
              "    <path d=\"M18.56 5.44l.94 2.06.94-2.06 2.06-.94-2.06-.94-.94-2.06-.94 2.06-2.06.94zm-11 1L8.5 8.5l.94-2.06 2.06-.94-2.06-.94L8.5 2.5l-.94 2.06-2.06.94zm10 10l.94 2.06.94-2.06 2.06-.94-2.06-.94-.94-2.06-.94 2.06-2.06.94z\"/><path d=\"M17.41 7.96l-1.37-1.37c-.4-.4-.92-.59-1.43-.59-.52 0-1.04.2-1.43.59L10.3 9.45l-7.72 7.72c-.78.78-.78 2.05 0 2.83L4 21.41c.39.39.9.59 1.41.59.51 0 1.02-.2 1.41-.59l7.78-7.78 2.81-2.81c.8-.78.8-2.07 0-2.86zM5.41 20L4 18.59l7.72-7.72 1.47 1.35L5.41 20z\"/>\n",
              "  </svg>\n",
              "      </button>\n",
              "      \n",
              "  <style>\n",
              "    .colab-df-container {\n",
              "      display:flex;\n",
              "      flex-wrap:wrap;\n",
              "      gap: 12px;\n",
              "    }\n",
              "\n",
              "    .colab-df-convert {\n",
              "      background-color: #E8F0FE;\n",
              "      border: none;\n",
              "      border-radius: 50%;\n",
              "      cursor: pointer;\n",
              "      display: none;\n",
              "      fill: #1967D2;\n",
              "      height: 32px;\n",
              "      padding: 0 0 0 0;\n",
              "      width: 32px;\n",
              "    }\n",
              "\n",
              "    .colab-df-convert:hover {\n",
              "      background-color: #E2EBFA;\n",
              "      box-shadow: 0px 1px 2px rgba(60, 64, 67, 0.3), 0px 1px 3px 1px rgba(60, 64, 67, 0.15);\n",
              "      fill: #174EA6;\n",
              "    }\n",
              "\n",
              "    [theme=dark] .colab-df-convert {\n",
              "      background-color: #3B4455;\n",
              "      fill: #D2E3FC;\n",
              "    }\n",
              "\n",
              "    [theme=dark] .colab-df-convert:hover {\n",
              "      background-color: #434B5C;\n",
              "      box-shadow: 0px 1px 3px 1px rgba(0, 0, 0, 0.15);\n",
              "      filter: drop-shadow(0px 1px 2px rgba(0, 0, 0, 0.3));\n",
              "      fill: #FFFFFF;\n",
              "    }\n",
              "  </style>\n",
              "\n",
              "      <script>\n",
              "        const buttonEl =\n",
              "          document.querySelector('#df-f064f4d9-7118-444f-832e-613d1ea4573b button.colab-df-convert');\n",
              "        buttonEl.style.display =\n",
              "          google.colab.kernel.accessAllowed ? 'block' : 'none';\n",
              "\n",
              "        async function convertToInteractive(key) {\n",
              "          const element = document.querySelector('#df-f064f4d9-7118-444f-832e-613d1ea4573b');\n",
              "          const dataTable =\n",
              "            await google.colab.kernel.invokeFunction('convertToInteractive',\n",
              "                                                     [key], {});\n",
              "          if (!dataTable) return;\n",
              "\n",
              "          const docLinkHtml = 'Like what you see? Visit the ' +\n",
              "            '<a target=\"_blank\" href=https://colab.research.google.com/notebooks/data_table.ipynb>data table notebook</a>'\n",
              "            + ' to learn more about interactive tables.';\n",
              "          element.innerHTML = '';\n",
              "          dataTable['output_type'] = 'display_data';\n",
              "          await google.colab.output.renderOutput(dataTable, element);\n",
              "          const docLink = document.createElement('div');\n",
              "          docLink.innerHTML = docLinkHtml;\n",
              "          element.appendChild(docLink);\n",
              "        }\n",
              "      </script>\n",
              "    </div>\n",
              "  </div>\n",
              "  "
            ]
          },
          "metadata": {},
          "execution_count": 16
        }
      ]
    },
    {
      "cell_type": "code",
      "source": [
        "svc = SVC()\n",
        "svc.fit(X_train_stand, y_train)\n",
        "\n",
        "perm_importance = permutation_importance(svc, X_test_stand, y_test)\n",
        "perm_importance.importances_mean"
      ],
      "metadata": {
        "colab": {
          "base_uri": "https://localhost:8080/"
        },
        "id": "7C97iHEcnMZe",
        "outputId": "b33b6fb5-254c-4b2a-d180-39a69107d058"
      },
      "execution_count": 17,
      "outputs": [
        {
          "output_type": "execute_result",
          "data": {
            "text/plain": [
              "array([0.01328, 0.01312, 0.0036 , 0.00712, 0.0256 , 0.01416, 0.00952,\n",
              "       0.00664, 0.02176, 0.0028 , 0.01432, 0.01592, 0.01248, 0.00288,\n",
              "       0.00968, 0.0084 , 0.01056, 0.00568, 0.00848, 0.006  , 0.01288,\n",
              "       0.0116 , 0.00928, 0.0144 , 0.0132 , 0.0096 , 0.00376, 0.01328,\n",
              "       0.01296, 0.01392, 0.00416, 0.01232, 0.0068 , 0.00576, 0.00208,\n",
              "       0.00552, 0.00656])"
            ]
          },
          "metadata": {},
          "execution_count": 17
        }
      ]
    },
    {
      "cell_type": "code",
      "source": [
        "sorted_idx = perm_importance.importances_mean.argsort()\n",
        "df = pd.DataFrame(perm_importance.importances_mean[sorted_idx], X_test.columns[sorted_idx], columns=['Value'])\n",
        "df.plot.barh(figsize=(15,15))"
      ],
      "metadata": {
        "colab": {
          "base_uri": "https://localhost:8080/",
          "height": 1000
        },
        "id": "n82U2pIYnWN4",
        "outputId": "6956567c-5752-4667-c4dd-0b76b251a486"
      },
      "execution_count": 18,
      "outputs": [
        {
          "output_type": "execute_result",
          "data": {
            "text/plain": [
              "<Axes: >"
            ]
          },
          "metadata": {},
          "execution_count": 18
        },
        {
          "output_type": "display_data",
          "data": {
            "text/plain": [
              "<Figure size 1500x1500 with 1 Axes>"
            ],
            "image/png": "[encoded data removed]"
          },
          "metadata": {}
        }
      ]
    },
    {
      "cell_type": "code",
      "source": [],
      "metadata": {
        "id": "ymWU3ZiFn1Sm"
      },
      "execution_count": 18,
      "outputs": []
    }
  ]
}